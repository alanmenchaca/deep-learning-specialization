{
  "nbformat": 4,
  "nbformat_minor": 0,
  "metadata": {
    "colab": {
      "name": "tensorflow-gradient-tape.ipynb",
      "provenance": [],
      "collapsed_sections": []
    },
    "kernelspec": {
      "name": "python3",
      "display_name": "Python 3"
    },
    "language_info": {
      "name": "python"
    }
  },
  "cells": [
    {
      "cell_type": "markdown",
      "source": [
        "### Motivating problem\n",
        "We want to minimize the following cross-entropy cost function\n",
        "$J(w, b) = w^2 - 10w + 25$"
      ],
      "metadata": {
        "id": "vvTuR539buoL"
      }
    },
    {
      "cell_type": "code",
      "source": [
        "import numpy as np\n",
        "import tensorflow as tf"
      ],
      "metadata": {
        "id": "n0khQdhPcKRr"
      },
      "execution_count": 1,
      "outputs": []
    },
    {
      "cell_type": "code",
      "source": [
        "w = tf.Variable(0, dtype=tf.float32)\n",
        "optimizer = tf.keras.optimizers.Adam(0.1)\n",
        "\n",
        "def train_step():\n",
        "    with tf.GradientTape() as tape:\n",
        "        cost = w ** 2 - 10 * w + 25\n",
        "    \n",
        "    trainable_variables = [w]\n",
        "    grads = tape.gradient(cost, trainable_variables)\n",
        "    optimizer.apply_gradients(zip(grads, trainable_variables))\n",
        "\n",
        "print(w)    "
      ],
      "metadata": {
        "colab": {
          "base_uri": "https://localhost:8080/"
        },
        "id": "LsbqbE0AcQHF",
        "outputId": "acc982ea-36e7-4054-d1e4-a75d9cf5ddad"
      },
      "execution_count": 2,
      "outputs": [
        {
          "output_type": "stream",
          "name": "stdout",
          "text": [
            "<tf.Variable 'Variable:0' shape=() dtype=float32, numpy=0.0>\n"
          ]
        }
      ]
    },
    {
      "cell_type": "code",
      "source": [
        "train_step()\n",
        "print(w)"
      ],
      "metadata": {
        "colab": {
          "base_uri": "https://localhost:8080/"
        },
        "id": "TuawxmgDdhMu",
        "outputId": "a87acc87-89e1-4bda-dcf5-cdbdffe7a299"
      },
      "execution_count": 3,
      "outputs": [
        {
          "output_type": "stream",
          "name": "stdout",
          "text": [
            "<tf.Variable 'Variable:0' shape=() dtype=float32, numpy=0.09999997>\n"
          ]
        }
      ]
    },
    {
      "cell_type": "code",
      "source": [
        "for i in range(1000):\n",
        "    train_step()\n",
        "print(w)"
      ],
      "metadata": {
        "colab": {
          "base_uri": "https://localhost:8080/"
        },
        "id": "7-YZ7C2xkofj",
        "outputId": "887f6b91-0335-4e79-f31a-a24e14750510"
      },
      "execution_count": 4,
      "outputs": [
        {
          "output_type": "stream",
          "name": "stdout",
          "text": [
            "<tf.Variable 'Variable:0' shape=() dtype=float32, numpy=5.000001>\n"
          ]
        }
      ]
    },
    {
      "cell_type": "code",
      "source": [
        "w = tf.Variable(0, dtype=tf.float32)\n",
        "x = np.array([1.0, -10.0, 25.0], dtype=np.float32)\n",
        "optimizers = tf.keras.optimizers.Adam(0.1)\n",
        "\n",
        "def training(x, w, optimizer):\n",
        "    def cost_fn():\n",
        "        return x[0] * w ** 2 + x[1] * w + x[2]\n",
        "\n",
        "    for i in range(1000):\n",
        "        optimizer.minimize(cost_fn, [w])\n",
        "\n",
        "    return w\n",
        "\n",
        "w = training(x, w, optimizer)\n",
        "print(w)"
      ],
      "metadata": {
        "colab": {
          "base_uri": "https://localhost:8080/"
        },
        "id": "EfjVkVMnlh41",
        "outputId": "cbe8ef9d-3f44-4f3c-b984-3e8754b11002"
      },
      "execution_count": 5,
      "outputs": [
        {
          "output_type": "stream",
          "name": "stdout",
          "text": [
            "<tf.Variable 'Variable:0' shape=() dtype=float32, numpy=5.0>\n"
          ]
        }
      ]
    }
  ]
}